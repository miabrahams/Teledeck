{
 "cells": [
  {
   "cell_type": "code",
   "execution_count": null,
   "metadata": {},
   "outputs": [],
   "source": [
    "from telethon import TelegramClient\n",
    "import telethon\n",
    "from telethon import functions, utils\n",
    "from telethon.tl.types import Message, Channel\n",
    "from telethon.tl.types.messages import DialogFilters\n",
    "from telethon.tl.custom.file import File\n",
    "from tqdm import tqdm\n",
    "from dotenv import load_dotenv\n",
    "from typing import List, Dict, Any\n",
    "import os\n",
    "import asyncio\n",
    "import json\n",
    "from datetime import date, datetime\n",
    "from telethon.errors import FloodWaitError\n",
    "from sqlalchemy.engine.base import Engine\n",
    "from sqlmodel import create_engine\n",
    "from models.telegram import MediaItem, Channel\n",
    "\n",
    "\n",
    "load_dotenv()\n",
    "api_id = os.environ['TG_API_ID']\n",
    "api_hash = os.environ['TG_API_HASH']\n",
    "phone = os.environ['TG_PHONE']\n",
    "session_file = os.path.join(os.getcwd() , \"../user.session\")\n",
    "\n",
    "# Paths\n",
    "MEDIA_PATH = '../static/media/'\n",
    "DB_PATH = '../teledeck.db'\n",
    "engine = create_engine(f\"sqlite:///{DB_PATH}\")\n",
    "\n",
    "# Ensure media directory exists\n",
    "os.makedirs(MEDIA_PATH, exist_ok=True)\n",
    "\n",
    "class DownloadProgressBar(tqdm):\n",
    "    def __init__(self, *args, **kwargs):\n",
    "        super().__init__(*args, **kwargs, leave=False)\n",
    "    def update_to(self, current, total):\n",
    "        self.total = total\n",
    "        self.update(current - self.n)\n",
    "\n",
    "\n",
    "\"\"\"\n",
    "async def download_media(client, message: Message) -> str:\n",
    "    with DownloadProgressBar(unit='B', unit_scale=True) as pb:\n",
    "        return await client.download_media(message, MEDIA_PATH, progress_callback=pb.update_to)\n",
    "\"\"\"\n",
    "async def download_media(client, message: Message) -> str:\n",
    "    return await client.download_media(message, MEDIA_PATH)\n",
    "\n",
    "\n",
    "# Flood prevention\n",
    "MAX_CONCURRENT_TASKS = 5\n",
    "semaphore = asyncio.Semaphore(MAX_CONCURRENT_TASKS)\n",
    "\n",
    "\n",
    "async def delay():\n",
    "    await asyncio.sleep(.1)\n",
    "\n",
    "async def exponential_backoff(attempt):\n",
    "    wait_time = 2 ** attempt\n",
    "    print(f\"Rate limit hit. Waiting for {wait_time} seconds before retrying.\")\n",
    "    await asyncio.sleep(wait_time)\n",
    "\n",
    "async def process_with_semaphore(callback: asyncio.Task, task_id: int) -> None:\n",
    "    async with semaphore:\n",
    "        max_attempts = 5\n",
    "        for attempt in range(max_attempts):\n",
    "            try:\n",
    "                await delay()\n",
    "                await callback\n",
    "                break\n",
    "            except FloodWaitError as e:\n",
    "                if attempt < max_attempts - 1:\n",
    "                    await exponential_backoff(attempt)\n",
    "                else:\n",
    "                    print(f\"Max attempts reached. Skipping: {task_id}\")\n",
    "                    return\n",
    "\n"
   ]
  },
  {
   "cell_type": "markdown",
   "metadata": {},
   "source": [
    "## Experiments and scratch"
   ]
  },
  {
   "cell_type": "code",
   "execution_count": null,
   "metadata": {},
   "outputs": [],
   "source": [
    "# Init client\n",
    "client = TelegramClient(session_file, api_id, api_hash)\n",
    "await client.connect()"
   ]
  },
  {
   "cell_type": "code",
   "execution_count": null,
   "metadata": {},
   "outputs": [],
   "source": [
    "# Demo from documentation\n",
    "\n",
    "async def main():\n",
    "    # Getting information about yourself\n",
    "    me = await client.get_me()\n",
    "\n",
    "    # \"me\" is a user object. You can pretty-print\n",
    "    # any Telegram object with the \"stringify\" method:\n",
    "    print(me.stringify())\n",
    "\n",
    "    # When you print something, you see a representation of it.\n",
    "    # You can access all attributes of Telegram objects with\n",
    "    # the dot operator. For example, to get the username:\n",
    "    username = me.username\n",
    "    print(username)\n",
    "    print(me.phone)\n",
    "\n",
    "    # You can print all the dialogs/conversations that you are part of:\n",
    "    # async for dialog in client.iter_dialogs():\n",
    "    #     print(dialog.name, 'has ID', dialog.id)\n",
    "\n",
    "    # You can send messages to yourself...\n",
    "    await client.send_message('me', f'Hello, {username}!')\n",
    "    # ...to some chat ID\n",
    "    # await client.send_message(-100123456, 'Hello, group!')\n",
    "    # ...to your contacts\n",
    "    # await client.send_message('+34600123123', 'Hello, friend!')\n",
    "    # ...or even to any username\n",
    "    # await client.send_message('username', 'Testing Telethon!')\n",
    "\n",
    "    # You can, of course, use markdown in your messages:\n",
    "    message = await client.send_message(\n",
    "        'me',\n",
    "        'This message has **bold**, `code`, __italics__ and '\n",
    "        'a [nice website](https://example.com)!',\n",
    "        link_preview=False\n",
    "    )\n",
    "\n",
    "    # Sending a message returns the sent message object, which you can use\n",
    "    print(message.raw_text)\n",
    "\n",
    "    # You can reply to messages directly if you have a message object\n",
    "    await message.reply('Cool!')\n",
    "\n",
    "    # Or send files, songs, documents, albums...\n",
    "    # await client.send_file('me', '/home/me/Pictures/holidays.jpg')\n",
    "\n",
    "    # You can print the message history of any chat:\n",
    "    async for message in client.iter_messages('me', limit=10):\n",
    "        print(message.id, message.text)\n",
    "\n",
    "        # You can download media from messages, too!\n",
    "        # The method will return the path where the file was saved.\n",
    "        \"\"\"\n",
    "        if message.photo:\n",
    "            path = await message.download_media()\n",
    "            print('File saved to', path)  # printed after download is done\n",
    "        \"\"\"\n",
    "\n",
    "async with client:\n",
    "    await main()"
   ]
  },
  {
   "cell_type": "code",
   "execution_count": null,
   "metadata": {},
   "outputs": [],
   "source": [
    "# Browse all chats\n",
    "\n",
    "dialogs = await client.get_dialogs()\n",
    "\n",
    "dialog_by_id = {}\n",
    "for d in dialogs:\n",
    "    real_id, peer_type = utils.resolve_id(d.id)\n",
    "    print(real_id, peer_type)\n",
    "    dialog_by_id[real_id] = d\n",
    "\n",
    "# client.get_channels(dialog_by_id.keys())"
   ]
  },
  {
   "cell_type": "code",
   "execution_count": null,
   "metadata": {},
   "outputs": [],
   "source": [
    "# Find recent messages in a chat\n",
    "filtered = filter(lambda dialog: dialog.name.find('Abrahams') > -1, dialogs)\n",
    "f: telethon.tl.custom.dialog.Dialog = next(filtered)\n",
    "last_messages = await client.get_messages(f, limit=20)\n",
    "\n",
    "[print(m) for m in last_messages]"
   ]
  },
  {
   "cell_type": "code",
   "execution_count": null,
   "metadata": {},
   "outputs": [],
   "source": [
    "# Delete most recent message\n",
    "# await client.delete_messages(f, last_messages[0], revoke=True)"
   ]
  },
  {
   "cell_type": "code",
   "execution_count": null,
   "metadata": {},
   "outputs": [],
   "source": [
    "# Find folders\n",
    "chatFolders: DialogFilters = await client(functions.messages.GetDialogFiltersRequest())\n",
    "# print(chatFolders.stringify())"
   ]
  },
  {
   "cell_type": "code",
   "execution_count": null,
   "metadata": {},
   "outputs": [],
   "source": [
    "# Find chats in media folder\n",
    "mediaFolder = None\n",
    "for folder in chatFolders.filters:\n",
    "    if not hasattr(folder, 'title'):\n",
    "        continue\n",
    "    if folder.title == 'MediaView':\n",
    "        mediaFolder = folder\n",
    "        break\n",
    "\n",
    "# print(mediaFolder.stringify())\n",
    "\n",
    "\n",
    "# target_channels = [dialog_by_id[peer.channel_id] for peer in mediaFolder.include_peers]\n",
    "# target_channels = [client.get_entity(peer) for peer in mediaFolder.include_peers]\n",
    "# await client.get_entity(peer)\n",
    "\n",
    "target_channels = await asyncio.gather(*[client.get_entity(peer) for peer in mediaFolder.include_peers])\n",
    "for channel in target_channels:\n",
    "    print(channel.stringify())"
   ]
  },
  {
   "cell_type": "code",
   "execution_count": null,
   "metadata": {},
   "outputs": [],
   "source": [
    "# Test messages in the first two channels\n",
    "\"\"\"\n",
    "for channel_id in target_channels[0:2]:\n",
    "    async for message in client.iter_messages(channel_id, limit=5):\n",
    "        print(message.stringify())\n",
    "\"\"\"\n",
    "\n",
    "# Grab most recent post @ self to test twitter embed\n",
    "test_message = None\n",
    "async for message in client.iter_messages('me', limit=1):\n",
    "    test_message = message\n",
    "\n",
    "print(test_message.stringify())\n",
    "\n",
    "# test_message.media = MessageMediaWebPage\n",
    "print(test_message.document)"
   ]
  },
  {
   "cell_type": "code",
   "execution_count": null,
   "metadata": {},
   "outputs": [],
   "source": [
    "# Grab posts in channel\n",
    "\n",
    "async def collect_posts(client, target_channels, limit=5):\n",
    "    post_collection = []\n",
    "    for channel in target_channels:\n",
    "        async for message in client.iter_messages(channel, limit=limit):\n",
    "            post_collection.append(message)\n",
    "    return post_collection\n",
    "posts = await collect_posts(client, target_channels, limit=5)"
   ]
  },
  {
   "cell_type": "markdown",
   "metadata": {},
   "source": [
    "# Examine individual messages"
   ]
  },
  {
   "cell_type": "code",
   "execution_count": null,
   "metadata": {},
   "outputs": [],
   "source": [
    "client = TelegramClient(session_file, api_id, api_hash)\n",
    "print(api_id, api_hash)\n",
    "await client.connect()\n",
    "print(client.is_connected())\n",
    "is_authorized = await client.is_user_authorized()\n",
    "print(is_authorized)\n",
    "me = await client.get_me()\n",
    "print(me.stringify())\n",
    "engine = create_engine(f\"sqlite:///{DB_PATH}\")\n"
   ]
  },
  {
   "cell_type": "code",
   "execution_count": null,
   "metadata": {},
   "outputs": [],
   "source": [
    "channel_title = 'GIFs and Vids'\n",
    "\n",
    "async def find_channel() -> telethon.types.Dialog | None:\n",
    "    async for dialog in client.iter_dialogs():\n",
    "        d: telethon.types.Dialog = dialog\n",
    "        if d.title.find(channel_title) > -1:\n",
    "            print(d)\n",
    "            return d\n",
    "    print(\"Channel not found.\")\n",
    "    return None\n",
    "\n",
    "target_channel = await find_channel()\n"
   ]
  },
  {
   "cell_type": "code",
   "execution_count": null,
   "metadata": {},
   "outputs": [],
   "source": [
    "forwardMessage = None\n",
    "async for message in client.iter_messages(target_channel, 500):\n",
    "    if message.forward:\n",
    "        forwardMessage = message\n",
    "        print(message.stringify())\n",
    "        break"
   ]
  },
  {
   "cell_type": "code",
   "execution_count": null,
   "metadata": {},
   "outputs": [],
   "source": [
    "\n",
    "print(await forwardMessage.forward.get_input_chat())\n",
    "\n",
    "print(forwardMessage.peer_id.channel_id)\n",
    "print(forwardMessage.forward.original_fwd.from_id)"
   ]
  },
  {
   "cell_type": "code",
   "execution_count": null,
   "metadata": {},
   "outputs": [],
   "source": [
    "\n",
    "messages = await client.get_messages(target_channel, 2):"
   ]
  },
  {
   "cell_type": "code",
   "execution_count": null,
   "metadata": {},
   "outputs": [],
   "source": [
    "\n",
    "\n",
    "message = messages[0]\n",
    "print(message.stringify())\n",
    "\n",
    "\"\"\"\n",
    "if message.file:\n",
    "    file: File = message.file\n",
    "    file_id = file.media.id\n",
    "    if file.size > 50_000_000:\n",
    "        print(f\"Skipping large file: {file_id}\")\n",
    "        return\n",
    "    if file.sticker_set is not None:\n",
    "        print(f\"Skipping sticker: {file_id}\")\n",
    "        return\n",
    "\n",
    "    # Check if file_id already exists in database\n",
    "    with Session(engine) as session:\n",
    "        statement = select(MediaItem).where(MediaItem.file_id == file_id)\n",
    "        existing = session.exec(statement).first()\n",
    "        if existing:\n",
    "            print(f\"Skipping existing file: {file_id}\")\n",
    "            if existing.channel_id is None:\n",
    "                existing.channel_id = channel.id\n",
    "                existing.message_id = message.id\n",
    "                existing.file_id = file_id\n",
    "                session.commit()\n",
    "\n",
    "            print(f\"Skipping download for existing file_id: {file_id}\")\n",
    "            return\n",
    "\n",
    "    file_path = await download_media(client, message)\n",
    "    if file_path:\n",
    "        file_name = os.path.basename(file_path)\n",
    "\n",
    "        if message.video or file_name.lower().endswith(\".mp4\"):\n",
    "            media_type = \"video\"\n",
    "        elif message.gif:\n",
    "            media_type = \"gif\"\n",
    "        elif message.photo:\n",
    "            media_type = \"photo\"\n",
    "        elif message.document:\n",
    "            mime_type = message.document.mime_type\n",
    "            media_type = (\n",
    "                mime_type.split(\"/\")[-1] if \"image/\" in mime_type else \"document\"\n",
    "            )\n",
    "        else:\n",
    "            media_type = \"unknown\"\n",
    "\n",
    "        with Session(engine) as session:\n",
    "            session.add(MediaItem(\n",
    "                file_id=file_id,\n",
    "                channel_id=channel.id,\n",
    "                message_id=message.id,\n",
    "                date=message.date,\n",
    "                text=message.text,\n",
    "                type = media_type,\n",
    "                file_name=file_name,\n",
    "                file_size = file.size,\n",
    "                url= f\"/media/{file_name}\",\n",
    "            ))\n",
    "            session.commit()\n",
    "        print(f\"Processed {media_type}: {file_id}\")\n",
    "elif message.web_preview:\n",
    "    print(f\"Skipping web preview: {message.id}\")\n",
    "else:\n",
    "    print(f\"No media found: {message.id}\")\n",
    "\n",
    "\"\"\"\n"
   ]
  },
  {
   "cell_type": "code",
   "execution_count": null,
   "metadata": {},
   "outputs": [],
   "source": [
    "\n",
    "message\n",
    "print(message.media.webpage.has_large_media) # true\n",
    "web_document = message.media.webpage.document\n",
    "print(web_document.mime_type == 'video/mp4') # true\n",
    "dir(web_document)\n",
    "# dir(message)\n",
    "print(message.file.mime_type)\n",
    "web_document.id\n",
    "# print(message.file)\n",
    "# print(dir(message.file))\n",
    "print(message.file.media.id)\n",
    "#print(message.video.stringify()) # 5824722488059233779"
   ]
  },
  {
   "cell_type": "code",
   "execution_count": null,
   "metadata": {},
   "outputs": [],
   "source": [
    "\n",
    "dl = await client.download_media(web_document, MEDIA_PATH)"
   ]
  },
  {
   "cell_type": "code",
   "execution_count": null,
   "metadata": {},
   "outputs": [],
   "source": [
    "dl"
   ]
  },
  {
   "cell_type": "markdown",
   "metadata": {},
   "source": [
    "# Search"
   ]
  },
  {
   "cell_type": "code",
   "execution_count": null,
   "metadata": {},
   "outputs": [],
   "source": [
    "\n",
    "client = TelegramClient(username, api_id, api_hash)\n",
    "await client.connect()"
   ]
  },
  {
   "cell_type": "code",
   "execution_count": null,
   "metadata": {},
   "outputs": [],
   "source": [
    "twitter_users = json.load(open('./data/twitter_users.json'))\n",
    "twitter_users"
   ]
  },
  {
   "cell_type": "code",
   "execution_count": null,
   "metadata": {},
   "outputs": [],
   "source": [
    "from telethon.tl.types import InputMessagesFilterEmpty, InputPeerEmpty, PeerChannel\n",
    "from telethon.tl.types.messages import MessagesSlice\n",
    "\n",
    "\n",
    "def makeSearchRequest(query: str, limit: int = 50):\n",
    "    return telethon.functions.messages.SearchGlobalRequest(\n",
    "        q=query,\n",
    "        filter=InputMessagesFilterEmpty(),\n",
    "        min_date=-1,\n",
    "        max_date=-1,\n",
    "        offset_rate=0,\n",
    "        offset_peer=InputPeerEmpty(),\n",
    "        offset_id=-1,\n",
    "        limit=limit,\n",
    "    )\n",
    "\n",
    "channel_ids = set()\n"
   ]
  },
  {
   "cell_type": "code",
   "execution_count": null,
   "metadata": {},
   "outputs": [],
   "source": [
    "print(results.stringify())"
   ]
  },
  {
   "cell_type": "code",
   "execution_count": null,
   "metadata": {},
   "outputs": [],
   "source": [
    "\n",
    "for twitter_user in tqdm(twitter_users):\n",
    "    searchRequest = makeSearchRequest(twitter_user, 50)\n",
    "    results: MessagesSlice = await client(searchRequest)\n",
    "    for message in results.messages:\n",
    "        if isinstance(message.peer_id, PeerChannel):\n",
    "            channel_ids.add(message.peer_id.channel_id)\n"
   ]
  },
  {
   "cell_type": "code",
   "execution_count": null,
   "metadata": {},
   "outputs": [],
   "source": [
    "channel_ids = sorted(list(channel_ids))\n",
    "# with open('./data/searched_channels.json', 'w') as f:\n",
    "    # json.dump(list(channel_ids), f, indent=2)"
   ]
  },
  {
   "cell_type": "code",
   "execution_count": null,
   "metadata": {},
   "outputs": [],
   "source": [
    "\n",
    "async def id_to_channel(client, channel_id):\n",
    "    channel = await client.get_entity(channel_id)\n",
    "    return channel\n",
    "\n",
    "\n",
    "channels: List[Channel] = await asyncio.gather(*[id_to_channel(client, channel_id) for channel_id in channel_ids])\n"
   ]
  },
  {
   "cell_type": "code",
   "execution_count": null,
   "metadata": {},
   "outputs": [],
   "source": [
    "print(sorted([channel.username for channel in channels if channel.username is not None]))"
   ]
  }
 ],
 "metadata": {
  "kernelspec": {
   "display_name": "base311",
   "language": "python",
   "name": "python3"
  },
  "language_info": {
   "codemirror_mode": {
    "name": "ipython",
    "version": 3
   },
   "file_extension": ".py",
   "mimetype": "text/x-python",
   "name": "python",
   "nbconvert_exporter": "python",
   "pygments_lexer": "ipython3",
   "version": "3.11.9"
  }
 },
 "nbformat": 4,
 "nbformat_minor": 2
}
