{
 "cells": [
  {
   "cell_type": "code",
   "execution_count": null,
   "metadata": {},
   "outputs": [],
   "source": [
    "from telethon import TelegramClient\n",
    "import telethon\n",
    "from telethon import functions, utils\n",
    "from telethon.tl.types import Message, Channel, InputMessagesFilterEmpty, InputPeerEmpty, PeerChannel\n",
    "from telethon.tl.custom.dialog import Dialog\n",
    "from telethon.tl.types.messages import DialogFilters\n",
    "from telethon.tl.custom.file import File\n",
    "from telethon.tl.types.messages import MessagesSlice\n",
    "from tqdm import tqdm\n",
    "from dotenv import load_dotenv\n",
    "from typing import List, Dict, Any\n",
    "import os\n",
    "import asyncio\n",
    "import json\n",
    "from datetime import date, datetime\n",
    "from telethon.errors import FloodWaitError\n",
    "from sqlalchemy.engine.base import Engine\n",
    "from sqlmodel import create_engine\n",
    "from models.telegram import MediaItem, ChannelModel\n",
    "from lib.tl_client import process_with_backoff, get_context\n",
    "\n",
    "from pprint import pp\n",
    "\n",
    "os.chdir(os.path.join(os.getcwd(), \"..\"))\n",
    "\n",
    "load_dotenv()\n",
    "\n",
    "ctx = await get_context()\n"
   ]
  },
  {
   "cell_type": "markdown",
   "metadata": {},
   "source": [
    "## Experiments and scratch"
   ]
  },
  {
   "cell_type": "code",
   "execution_count": null,
   "metadata": {},
   "outputs": [],
   "source": [
    "\n",
    "# Manually connect\n",
    "client = TelegramClient(session_file, api_id, api_hash)\n",
    "print(api_id, api_hash)\n",
    "await client.connect()\n",
    "print(client.is_connected())\n",
    "is_authorized = await client.is_user_authorized()\n",
    "print(is_authorized)\n",
    "me = await client.get_me()\n",
    "print(me.stringify())\n",
    "engine = create_engine(f\"sqlite:///{DB_PATH}\")\n"
   ]
  },
  {
   "cell_type": "code",
   "execution_count": null,
   "metadata": {},
   "outputs": [],
   "source": [
    "# Browse all chats\n",
    "\n",
    "dialogs: List[Dialog] = await ctx.tclient.get_dialogs()\n",
    "\n",
    "dialog_by_id = {}\n",
    "for d in dialogs:\n",
    "    real_id, peer_type = utils.resolve_id(d.id)\n",
    "    print(real_id, peer_type)\n",
    "    dialog_by_id[real_id] = d\n",
    "\n",
    "# client.get_channels(dialog_by_id.keys())"
   ]
  },
  {
   "cell_type": "code",
   "execution_count": null,
   "metadata": {},
   "outputs": [],
   "source": [
    "# Find recent messages in a chat\n",
    "filtered = filter(lambda dialog: dialog.name.find('Abrahams') > -1, dialogs)\n",
    "f: Dialog = next(filtered)\n",
    "last_messages = await ctx.tclient.get_messages(f, limit=20)\n",
    "\n",
    "[print(m) for m in last_messages]"
   ]
  },
  {
   "cell_type": "code",
   "execution_count": null,
   "metadata": {},
   "outputs": [],
   "source": [
    "# Delete most recent message\n",
    "# await client.delete_messages(f, last_messages[0], revoke=True)"
   ]
  },
  {
   "cell_type": "code",
   "execution_count": null,
   "metadata": {},
   "outputs": [],
   "source": [
    "# Find folders\n",
    "chatFolders: DialogFilters = await ctx.tclient(functions.messages.GetDialogFiltersRequest())\n",
    "# print(chatFolders.stringify())"
   ]
  },
  {
   "cell_type": "code",
   "execution_count": null,
   "metadata": {},
   "outputs": [],
   "source": [
    "# Find chats in media folder\n",
    "mediaFolder = None\n",
    "for folder in chatFolders.filters:\n",
    "    if not hasattr(folder, 'title'):\n",
    "        continue\n",
    "    if folder.title == 'MediaView':\n",
    "        mediaFolder = folder\n",
    "        break\n",
    "\n",
    "# print(mediaFolder.stringify())\n",
    "\n",
    "\n",
    "# target_channels = [dialog_by_id[peer.channel_id] for peer in mediaFolder.include_peers]\n",
    "# target_channels = [client.get_entity(peer) for peer in mediaFolder.include_peers]\n",
    "# await client.get_entity(peer)\n",
    "\n",
    "target_channels = await asyncio.gather(*[client.get_entity(peer) for peer in mediaFolder.include_peers])\n",
    "for channel in target_channels:\n",
    "    print(channel.stringify())"
   ]
  },
  {
   "cell_type": "code",
   "execution_count": null,
   "metadata": {},
   "outputs": [],
   "source": [
    "# Test messages in the first two channels\n",
    "\"\"\"\n",
    "for channel_id in target_channels[0:2]:\n",
    "    async for message in ctx.tclient.iter_messages(channel_id, limit=5):\n",
    "        print(message.stringify())\n",
    "\"\"\"\n",
    "\n",
    "# Grab most recent post @ self to test twitter embed\n",
    "test_message = None\n",
    "async for message in ctx.tclient.iter_messages('me', limit=1):\n",
    "    test_message = message\n",
    "\n",
    "print(test_message.stringify())\n",
    "\n",
    "# test_message.media = MessageMediaWebPage\n",
    "print(test_message.document)"
   ]
  },
  {
   "cell_type": "code",
   "execution_count": null,
   "metadata": {},
   "outputs": [],
   "source": [
    "# Grab posts in channel\n",
    "\n",
    "async def collect_posts(target_channels, limit=5):\n",
    "    post_collection = []\n",
    "    for channel in target_channels:\n",
    "        async for message in ctx.tclient.iter_messages(channel, limit=limit):\n",
    "            post_collection.append(message)\n",
    "    return post_collection\n",
    "posts = await collect_posts(target_channels, limit=5)"
   ]
  },
  {
   "cell_type": "markdown",
   "metadata": {},
   "source": [
    "# Examine individual messages"
   ]
  },
  {
   "cell_type": "code",
   "execution_count": null,
   "metadata": {},
   "outputs": [],
   "source": [
    "channel_title = 'GIFs and Vids'\n",
    "\n",
    "async def find_channel() -> telethon.types.Dialog | None:\n",
    "    async for dialog in ctx.tclient.iter_dialogs():\n",
    "        d: telethon.types.Dialog = dialog\n",
    "        if d.title.find(channel_title) > -1:\n",
    "            print(d)\n",
    "            return d\n",
    "    print(\"Channel not found.\")\n",
    "    return None\n",
    "\n",
    "target_channel = await find_channel()\n"
   ]
  },
  {
   "cell_type": "code",
   "execution_count": null,
   "metadata": {},
   "outputs": [],
   "source": [
    "forwardMessage = None\n",
    "async for message in ctx.tclient.iter_messages(target_channel, 500):\n",
    "    if message.forward:\n",
    "        forwardMessage = message\n",
    "        print(message.stringify())\n",
    "        break\n",
    "\n",
    "print(await forwardMessage.forward.get_input_chat())\n",
    "print(forwardMessage.peer_id.channel_id)\n",
    "print(forwardMessage.forward.original_fwd.from_id)\n"
   ]
  },
  {
   "cell_type": "code",
   "execution_count": null,
   "metadata": {},
   "outputs": [],
   "source": [
    "\n",
    "messages = await ctx.tclient.get_messages(target_channel, 2)"
   ]
  },
  {
   "cell_type": "code",
   "execution_count": null,
   "metadata": {},
   "outputs": [],
   "source": [
    "\n",
    "\n",
    "message = messages[0]\n",
    "print(message.stringify())\n"
   ]
  },
  {
   "cell_type": "code",
   "execution_count": null,
   "metadata": {},
   "outputs": [],
   "source": [
    "\n",
    "message\n",
    "print(message.media.webpage.has_large_media) # true\n",
    "web_document = message.media.webpage.document\n",
    "print(web_document.mime_type == 'video/mp4') # true\n",
    "dir(web_document)\n",
    "# dir(message)\n",
    "print(message.file.mime_type)\n",
    "web_document.id\n",
    "# print(message.file)\n",
    "# print(dir(message.file))\n",
    "print(message.file.media.id)\n",
    "#print(message.video.stringify()) # 5824722488059233779"
   ]
  },
  {
   "cell_type": "code",
   "execution_count": null,
   "metadata": {},
   "outputs": [],
   "source": [
    "dl = await ctx.tclient.download_media(web_document, MEDIA_PATH)\n"
   ]
  },
  {
   "cell_type": "code",
   "execution_count": null,
   "metadata": {},
   "outputs": [],
   "source": [
    "dl"
   ]
  },
  {
   "cell_type": "markdown",
   "metadata": {},
   "source": [
    "# Search"
   ]
  },
  {
   "cell_type": "code",
   "execution_count": null,
   "metadata": {},
   "outputs": [],
   "source": [
    "twitter_users = json.load(open('./data/twitter_users.json'))\n",
    "twitter_users"
   ]
  },
  {
   "cell_type": "code",
   "execution_count": null,
   "metadata": {},
   "outputs": [],
   "source": [
    "\n",
    "\n",
    "def makeSearchRequest(query: str, limit: int = 50):\n",
    "    return telethon.functions.messages.SearchGlobalRequest(\n",
    "        q=query,\n",
    "        filter=InputMessagesFilterEmpty(),\n",
    "        min_date=-1,\n",
    "        max_date=-1,\n",
    "        offset_rate=0,\n",
    "        offset_peer=InputPeerEmpty(),\n",
    "        offset_id=-1,\n",
    "        limit=limit,\n",
    "    )\n",
    "\n",
    "channel_ids = set()\n"
   ]
  },
  {
   "cell_type": "code",
   "execution_count": null,
   "metadata": {},
   "outputs": [],
   "source": [
    "print(results.stringify())"
   ]
  },
  {
   "cell_type": "code",
   "execution_count": null,
   "metadata": {},
   "outputs": [],
   "source": [
    "\n",
    "for twitter_user in tqdm(twitter_users):\n",
    "    searchRequest = makeSearchRequest(twitter_user, 50)\n",
    "    results: MessagesSlice = await client(searchRequest)\n",
    "    for message in results.messages:\n",
    "        if isinstance(message.peer_id, PeerChannel):\n",
    "            channel_ids.add(message.peer_id.channel_id)\n"
   ]
  },
  {
   "cell_type": "code",
   "execution_count": null,
   "metadata": {},
   "outputs": [],
   "source": [
    "channel_ids = sorted(list(channel_ids))\n",
    "# with open('./data/searched_channels.json', 'w') as f:\n",
    "    # json.dump(list(channel_ids), f, indent=2)"
   ]
  },
  {
   "cell_type": "code",
   "execution_count": null,
   "metadata": {},
   "outputs": [],
   "source": [
    "\n",
    "async def id_to_channel(client, channel_id):\n",
    "    channel = await client.get_entity(channel_id)\n",
    "    return channel\n",
    "\n",
    "\n",
    "channels: List[Channel] = await asyncio.gather(*[id_to_channel(client, channel_id) for channel_id in channel_ids])\n"
   ]
  },
  {
   "cell_type": "code",
   "execution_count": null,
   "metadata": {},
   "outputs": [],
   "source": [
    "print(sorted([channel.username for channel in channels if channel.username is not None]))"
   ]
  }
 ],
 "metadata": {
  "kernelspec": {
   "display_name": "base311",
   "language": "python",
   "name": "python3"
  },
  "language_info": {
   "codemirror_mode": {
    "name": "ipython",
    "version": 3
   },
   "file_extension": ".py",
   "mimetype": "text/x-python",
   "name": "python",
   "nbconvert_exporter": "python",
   "pygments_lexer": "ipython3",
   "version": "3.11.9"
  }
 },
 "nbformat": 4,
 "nbformat_minor": 2
}
